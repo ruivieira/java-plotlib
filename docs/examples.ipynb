{
 "cells": [
  {
   "cell_type": "code",
   "execution_count": 1,
   "metadata": {},
   "outputs": [],
   "source": [
    "%%loadFromPOM\n",
    "<repository>\n",
    "    <id>bintray-ruivieira-maven</id>\n",
    "    <url>https://dl.bintray.com/ruivieira/maven</url>\n",
    "</repository>\n",
    "<dependency>\n",
    "    <groupId>org.ruivieira</groupId>\n",
    "    <artifactId>java-plotlib</artifactId>\n",
    "    <version>0.0.1</version>\n",
    "</dependency>"
   ]
  },
  {
   "cell_type": "code",
   "execution_count": null,
   "metadata": {},
   "outputs": [],
   "source": []
  }
 ],
 "metadata": {
  "kernelspec": {
   "display_name": "Java",
   "language": "java",
   "name": "java"
  },
  "language_info": {
   "codemirror_mode": "java",
   "file_extension": ".java",
   "mimetype": "text/x-java-source",
   "name": "Java",
   "pygments_lexer": "java",
   "version": "10.0.1+10-Debian-4"
  }
 },
 "nbformat": 4,
 "nbformat_minor": 2
}
